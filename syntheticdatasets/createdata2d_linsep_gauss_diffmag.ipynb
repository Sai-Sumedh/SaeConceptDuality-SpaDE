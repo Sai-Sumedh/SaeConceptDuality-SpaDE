{
 "cells": [
  {
   "cell_type": "markdown",
   "metadata": {},
   "source": [
    "## Create a dataset with heterogenous features in 2D"
   ]
  },
  {
   "cell_type": "code",
   "execution_count": 1,
   "metadata": {},
   "outputs": [],
   "source": [
    "import torch\n",
    "import os\n",
    "import sys\n",
    "sys.path.append('../..')"
   ]
  },
  {
   "cell_type": "code",
   "execution_count": 2,
   "metadata": {},
   "outputs": [],
   "source": [
    "torch.manual_seed(0)\n",
    "\n",
    "# TRUE FEATURES\n",
    "\n",
    "dimspace = 2 #prev 32\n",
    "numpoints_perconc = 1000000*(dimspace//2)\n",
    "\n",
    "numclusters = 6\n",
    "\n",
    "intrinsic_dims = 2*torch.ones((numclusters,), dtype=int)\n",
    "\n",
    "# allscales = torch.arange(10, 300, 30)\n",
    "# allscales = torch.pow(torch.tensor([10]), torch.linspace(0.5, 2.5, 10))\n",
    "scaler_alpha = 4.5\n",
    "K = 1\n",
    "Kc = K/dimspace\n",
    "\n",
    "\n",
    "# centers = Kc*torch.rand(numclusters, dimspace)\n",
    "#centers on corners of a regular pentagon\n",
    "# rad = Kc*torch.tensor([1, 1, 1, 1, 1])\n",
    "# rad = Kc*(1.0+ 0.3*torch.abs(torch.rand(numclusters)))\n",
    "rad = Kc*torch.tensor([3.0, 1.0, 3.0, 1.0, 3.0, 1.0])\n",
    "angles = torch.arange(0, 2*torch.pi, 2*torch.pi/numclusters)\n",
    "centers = torch.stack((rad*torch.cos(angles), rad*torch.sin(angles)), dim=1)\n",
    "\n",
    "\n",
    "# Qv = 1/200\n",
    "Qv = 1/(2**scaler_alpha)\n",
    "Kv = Qv*K/intrinsic_dims.float().max()\n",
    "torch.manual_seed(625)\n",
    "\n",
    "variances = [Kv*torch.ones((intrinsic_dims[i],)) for i in range(numclusters)]\n",
    "Covmats = [1e-6*torch.eye(dimspace) + torch.diag(variances[i]) for i in range(numclusters)]\n",
    "\n",
    "\n",
    "from torch.distributions.multivariate_normal import MultivariateNormal\n",
    "\n",
    "# numpoints_perconc = 1000*(dimspace//2)\n",
    "truefeatures = {'centers': centers, 'variances': variances}\n",
    "\n",
    "data_all = torch.zeros((numclusters*numpoints_perconc, dimspace))\n",
    "class_id_all = torch.zeros((numclusters*numpoints_perconc,), dtype=int)\n",
    "for k in range(numclusters):\n",
    "    clusterk = MultivariateNormal(centers[k,:], Covmats[k])\n",
    "    data_all[k*numpoints_perconc:(k+1)*numpoints_perconc, :] = clusterk.sample((numpoints_perconc,))\n",
    "    class_id_all[k*numpoints_perconc:(k+1)*numpoints_perconc] = k\n",
    "\n",
    "numpoints_total = data_all.shape[0]\n",
    "from sklearn.linear_model import LogisticRegression\n",
    "from sklearn.model_selection import train_test_split\n",
    "\n",
    "X_train, X_test, y_train, y_test = train_test_split(data_all, class_id_all, test_size=0.33, random_state=42)\n",
    "\n",
    "clf = LogisticRegression(random_state=0, max_iter=1000, C=1e-1,penalty='l2').fit(X_train, y_train)\n",
    "score = clf.score(X_test, y_test)\n",
    "#get score separately for each concept (one vs all)\n",
    "scoresperconcept = []\n",
    "for k in range(numclusters):\n",
    "    y_train_concept = (y_train == k)\n",
    "    y_test_concept = (y_test == k)\n",
    "    clf = LogisticRegression(random_state=0, max_iter=1000, C=1e-1,penalty='l2').fit(X_train, y_train_concept)\n",
    "    score = clf.score(X_test, y_test_concept)\n",
    "    scoresperconcept.append(score)\n",
    "\n",
    "\n",
    "# print(f\"Scaler={scaler_alpha}, Score={score}\")\n",
    "\n",
    "\n",
    "\n",
    "\n"
   ]
  },
  {
   "cell_type": "code",
   "execution_count": 3,
   "metadata": {},
   "outputs": [],
   "source": [
    "# import matplotlib.pyplot as plt\n",
    "# plt.scatter(data_all[:,0], data_all[:,1], c=class_id_all, cmap='tab10')\n",
    "# plt.title(f\"Data with different magnitudes\")\n",
    "# plt.show()"
   ]
  },
  {
   "cell_type": "code",
   "execution_count": 4,
   "metadata": {},
   "outputs": [],
   "source": [
    "# scoresperconcept"
   ]
  },
  {
   "cell_type": "code",
   "execution_count": 5,
   "metadata": {},
   "outputs": [],
   "source": [
    "torch.manual_seed(41)\n",
    "shuffle_indices = torch.randperm(numpoints_total)\n",
    "datax = data_all[shuffle_indices,:]\n",
    "classidx = class_id_all[shuffle_indices]\n",
    "#CREATE TRAIN, TEST SPLITS\n",
    "#save training data and test data separately\n",
    "torch.manual_seed(4)\n",
    "frac_train = 0.7 #70% train, 30% test\n",
    "total_points = numpoints_total\n",
    "train_data_size = int(frac_train*total_points)\n",
    "test_data_size = total_points-train_data_size\n",
    "random_ordering = torch.randperm(total_points)\n",
    "train_indices = random_ordering[:train_data_size]\n",
    "test_indices = random_ordering[train_data_size:]\n",
    "\n",
    "train_datax = datax[train_indices,:]\n",
    "test_datax = datax[test_indices,:]\n",
    "\n",
    "train_classidx = classidx[train_indices]\n",
    "test_classidx = classidx[test_indices]\n"
   ]
  },
  {
   "cell_type": "code",
   "execution_count": 6,
   "metadata": {},
   "outputs": [],
   "source": [
    "# SAVE DATA\n",
    "#location to save data\n",
    "labdir = os.environ['USERDIR']\n",
    "data_loc = labdir+'/data/'\n",
    "dataset_dir = data_loc+f'/2dgaussian_diffmag/'\n",
    "dim = 2 #data dimension\n",
    "\n",
    "if not os.path.exists(dataset_dir):\n",
    "    os.makedirs(dataset_dir)\n",
    "\n",
    "# torch.save({'numclusters':numclusters,\\\n",
    "#             'dim':dim,\\\n",
    "#             'data':train_datax,\\\n",
    "#             'labels':train_classidx,\\\n",
    "#             'truefeatures':truefeatures}, dataset_dir+f'traindata.pt')\n",
    "\n",
    "# torch.save({'numclusters':numclusters,\\\n",
    "#             'dim':dim,\\\n",
    "#             'data':test_datax,\\\n",
    "#             'labels':test_classidx,\\\n",
    "#             'truefeatures':truefeatures}, dataset_dir+f'testdata.pt')"
   ]
  }
 ],
 "metadata": {
  "kernelspec": {
   "display_name": "spmax",
   "language": "python",
   "name": "python3"
  },
  "language_info": {
   "codemirror_mode": {
    "name": "ipython",
    "version": 3
   },
   "file_extension": ".py",
   "mimetype": "text/x-python",
   "name": "python",
   "nbconvert_exporter": "python",
   "pygments_lexer": "ipython3",
   "version": "3.10.14"
  },
  "orig_nbformat": 4
 },
 "nbformat": 4,
 "nbformat_minor": 2
}
