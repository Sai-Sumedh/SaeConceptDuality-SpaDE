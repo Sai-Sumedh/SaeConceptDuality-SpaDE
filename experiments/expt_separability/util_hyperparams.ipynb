{
 "cells": [
  {
   "cell_type": "code",
   "execution_count": 7,
   "metadata": {},
   "outputs": [
    {
     "name": "stdout",
     "output_type": "stream",
     "text": [
      "         sae_type     gamma_reg  kval_topk\n",
      "0            relu  1.000000e-12          0\n",
      "1            relu  1.000000e-10          0\n",
      "2            relu  1.000000e-08          0\n",
      "3        jumprelu  1.000000e-12          0\n",
      "4        jumprelu  1.000000e-10          0\n",
      "5        jumprelu  1.000000e-08          0\n",
      "6  sparsemax_dist  1.000000e-12          0\n",
      "7  sparsemax_dist  1.000000e-10          0\n",
      "8  sparsemax_dist  1.000000e-08          0\n"
     ]
    }
   ],
   "source": [
    "import numpy as np\n",
    "import pandas as pd\n",
    "\n",
    "# Define the parameters\n",
    "sae_type = ['relu', 'jumprelu', 'sparsemax_dist']\n",
    "# gamma_reg = [1e-6, 5e-6, 1e-5, 5e-5, 1e-4, 5e-4, 1e-3, 5e-3, 1e-2, 5e-2, 1e-1, 5e-1, 1e0]\n",
    "# kvals_topk = [4*(2**i) for i in range(0, 5)]\n",
    "gamma_reg = [1e-12, 1e-10, 1e-8]\n",
    "\n",
    "# Create a list of all possible combinations\n",
    "combinations_relu = [('relu', gam, 0) for gam in gamma_reg]\n",
    "combinations_jumprelu = [('jumprelu', gam, 0) for gam in gamma_reg]\n",
    "# combinations_topk = [('topk_relu', 1.0, k) for k in kvals_topk]\n",
    "combinations_spade = [('sparsemax_dist', gam, 0) for gam in gamma_reg]\n",
    "\n",
    "# combinations = combinations_relu + combinations_jumprelu + combinations_topk + combinations_spade\n",
    "\n",
    "combinations = combinations_relu + combinations_jumprelu + combinations_spade\n",
    "\n",
    "# Convert the list to a DataFrame\n",
    "df_combinations = pd.DataFrame(combinations, columns=['sae_type', 'gamma_reg', 'kval_topk'])\n",
    "print(df_combinations)\n",
    "\n",
    "# Write the DataFrame to a CSV file\n",
    "df_combinations.to_csv('hyperparameters2.csv', index=False)"
   ]
  },
  {
   "cell_type": "code",
   "execution_count": 1,
   "metadata": {},
   "outputs": [],
   "source": [
    "import os\n",
    "\n",
    "RESULTS_PATH = './'\n",
    "FIGURES_PATH = RESULTS_PATH+'figs/'\n",
    "STATUS_PATH = RESULTS_PATH + 'status_files/'\n",
    "SAVE_MODELS_PATH = RESULTS_PATH+'saved_models/'\n",
    "\n",
    "#create directories if they don't exist\n",
    "if not os.path.exists(FIGURES_PATH):\n",
    "    os.makedirs(FIGURES_PATH)\n",
    "if not os.path.exists(STATUS_PATH):\n",
    "    os.makedirs(STATUS_PATH)\n",
    "if not os.path.exists(SAVE_MODELS_PATH):\n",
    "    os.makedirs(SAVE_MODELS_PATH)"
   ]
  },
  {
   "cell_type": "code",
   "execution_count": null,
   "metadata": {},
   "outputs": [],
   "source": []
  }
 ],
 "metadata": {
  "kernelspec": {
   "display_name": "Python 3",
   "language": "python",
   "name": "python3"
  },
  "language_info": {
   "codemirror_mode": {
    "name": "ipython",
    "version": 3
   },
   "file_extension": ".py",
   "mimetype": "text/x-python",
   "name": "python",
   "nbconvert_exporter": "python",
   "pygments_lexer": "ipython3",
   "version": "3.10.14"
  }
 },
 "nbformat": 4,
 "nbformat_minor": 2
}
