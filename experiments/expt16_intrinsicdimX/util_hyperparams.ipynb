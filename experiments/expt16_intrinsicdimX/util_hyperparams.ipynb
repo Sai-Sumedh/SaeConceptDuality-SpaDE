{
 "cells": [
  {
   "cell_type": "code",
   "execution_count": null,
   "metadata": {},
   "outputs": [
    {
     "name": "stdout",
     "output_type": "stream",
     "text": [
      "          sae_type  gamma_reg  kval_topk\n",
      "0             relu      0.001          0\n",
      "1             relu      0.010          0\n",
      "2             relu      0.100          0\n",
      "3             relu      1.000          0\n",
      "4             relu      5.000          0\n",
      "5             relu     10.000          0\n",
      "6             relu     50.000          0\n",
      "7         jumprelu      0.001          0\n",
      "8         jumprelu      0.010          0\n",
      "9         jumprelu      0.100          0\n",
      "10        jumprelu      1.000          0\n",
      "11        jumprelu      5.000          0\n",
      "12        jumprelu     10.000          0\n",
      "13        jumprelu     50.000          0\n",
      "14       topk_relu      1.000          4\n",
      "15       topk_relu      1.000          8\n",
      "16       topk_relu      1.000         16\n",
      "17       topk_relu      1.000         32\n",
      "18       topk_relu      1.000         64\n",
      "19       topk_relu      1.000        128\n",
      "20       topk_relu      1.000        256\n",
      "21  sparsemax_dist      0.001          0\n",
      "22  sparsemax_dist      0.010          0\n",
      "23  sparsemax_dist      0.100          0\n",
      "24  sparsemax_dist      1.000          0\n",
      "25  sparsemax_dist      3.000          0\n",
      "26  sparsemax_dist      5.000          0\n",
      "27  sparsemax_dist     10.000          0\n"
     ]
    }
   ],
   "source": [
    "import numpy as np\n",
    "import pandas as pd\n",
    "\n",
    "# Define the parameters\n",
    "sae_type = ['relu', 'jumprelu', 'sparsemax_dist']\n",
    "# gamma_reg = [1e-4, 1e-3, 1e-2, 1e-1, 1e0]\n",
    "kvals_topk = [0]\n",
    "\n",
    "# Create a list of all possible combinations\n",
    "combinations_relu = [('relu', gam, 0) for gam in [1e-3, 1e-2, 1e-1, 1e0, 5e0, 1e1, 5e1]]\n",
    "combinations_jumprelu = [('jumprelu', gam, 0) for gam in [1e-3, 1e-2, 1e-1, 1e0, 5e0, 1e1, 5e1]]\n",
    "combinations_topk = [('topk_relu', 1.0, k) for k in [4, 8, 16, 32, 64, 128, 256]]\n",
    "combinations_spade = [('sparsemax_dist', gam, 0) for gam in [1e-3, 1e-2, 1e-1, 1e0, 3e0, 5e0, 1e1]]\n",
    "\n",
    "combinations = combinations_relu + combinations_jumprelu + combinations_topk + combinations_spade\n",
    "\n",
    "# Convert the list to a DataFrame\n",
    "df_combinations = pd.DataFrame(combinations, columns=['sae_type', 'gamma_reg', 'kval_topk'])\n",
    "print(df_combinations)\n",
    "\n",
    "# Write the DataFrame to a CSV file\n",
    "df_combinations.to_csv('hyperparameters.csv', index=False)"
   ]
  },
  {
   "cell_type": "code",
   "execution_count": 2,
   "metadata": {},
   "outputs": [],
   "source": [
    "import os\n",
    "\n",
    "RESULTS_PATH = './'\n",
    "FIGURES_PATH = RESULTS_PATH+'figs/'\n",
    "STATUS_PATH = RESULTS_PATH + 'status_files/'\n",
    "SAVE_MODELS_PATH = RESULTS_PATH+'saved_models/'\n",
    "\n",
    "#create directories if they don't exist\n",
    "if not os.path.exists(FIGURES_PATH):\n",
    "    os.makedirs(FIGURES_PATH)\n",
    "if not os.path.exists(STATUS_PATH):\n",
    "    os.makedirs(STATUS_PATH)\n",
    "if not os.path.exists(SAVE_MODELS_PATH):\n",
    "    os.makedirs(SAVE_MODELS_PATH)"
   ]
  },
  {
   "cell_type": "code",
   "execution_count": null,
   "metadata": {},
   "outputs": [],
   "source": []
  }
 ],
 "metadata": {
  "kernelspec": {
   "display_name": "Python 3",
   "language": "python",
   "name": "python3"
  },
  "language_info": {
   "codemirror_mode": {
    "name": "ipython",
    "version": 3
   },
   "file_extension": ".py",
   "mimetype": "text/x-python",
   "name": "python",
   "nbconvert_exporter": "python",
   "pygments_lexer": "ipython3",
   "version": "3.10.14"
  }
 },
 "nbformat": 4,
 "nbformat_minor": 2
}
